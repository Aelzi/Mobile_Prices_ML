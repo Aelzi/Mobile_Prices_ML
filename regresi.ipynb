{
 "cells": [
  {
   "cell_type": "code",
   "execution_count": 3,
   "metadata": {},
   "outputs": [],
   "source": [
    "import pandas as pd\n",
    "import numpy as np"
   ]
  },
  {
   "cell_type": "code",
   "execution_count": 17,
   "metadata": {},
   "outputs": [
    {
     "data": {
      "text/html": [
       "<div>\n",
       "<style scoped>\n",
       "    .dataframe tbody tr th:only-of-type {\n",
       "        vertical-align: middle;\n",
       "    }\n",
       "\n",
       "    .dataframe tbody tr th {\n",
       "        vertical-align: top;\n",
       "    }\n",
       "\n",
       "    .dataframe thead th {\n",
       "        text-align: right;\n",
       "    }\n",
       "</style>\n",
       "<table border=\"1\" class=\"dataframe\">\n",
       "  <thead>\n",
       "    <tr style=\"text-align: right;\">\n",
       "      <th></th>\n",
       "      <th>Phone Name</th>\n",
       "      <th>Rating ?/5</th>\n",
       "      <th>Number of Ratings</th>\n",
       "      <th>RAM</th>\n",
       "      <th>ROM/Storage</th>\n",
       "      <th>Back/Rare Camera</th>\n",
       "      <th>Front Camera</th>\n",
       "      <th>Battery</th>\n",
       "      <th>Processor</th>\n",
       "      <th>Price in INR</th>\n",
       "      <th>Date of Scraping</th>\n",
       "    </tr>\n",
       "  </thead>\n",
       "  <tbody>\n",
       "    <tr>\n",
       "      <th>0</th>\n",
       "      <td>POCO C50 (Royal Blue, 32 GB)</td>\n",
       "      <td>4.2</td>\n",
       "      <td>33,561</td>\n",
       "      <td>2 GB RAM</td>\n",
       "      <td>32 GB ROM</td>\n",
       "      <td>8MP Dual Camera</td>\n",
       "      <td>5MP Front Camera</td>\n",
       "      <td>5000 mAh</td>\n",
       "      <td>Mediatek Helio A22 Processor, Upto 2.0 GHz Pro...</td>\n",
       "      <td>₹5,649</td>\n",
       "      <td>2023-06-17</td>\n",
       "    </tr>\n",
       "    <tr>\n",
       "      <th>1</th>\n",
       "      <td>POCO M4 5G (Cool Blue, 64 GB)</td>\n",
       "      <td>4.2</td>\n",
       "      <td>77,128</td>\n",
       "      <td>4 GB RAM</td>\n",
       "      <td>64 GB ROM</td>\n",
       "      <td>50MP + 2MP</td>\n",
       "      <td>8MP Front Camera</td>\n",
       "      <td>5000 mAh</td>\n",
       "      <td>Mediatek Dimensity 700 Processor</td>\n",
       "      <td>₹11,999</td>\n",
       "      <td>2023-06-17</td>\n",
       "    </tr>\n",
       "    <tr>\n",
       "      <th>2</th>\n",
       "      <td>POCO C51 (Royal Blue, 64 GB)</td>\n",
       "      <td>4.3</td>\n",
       "      <td>15,175</td>\n",
       "      <td>4 GB RAM</td>\n",
       "      <td>64 GB ROM</td>\n",
       "      <td>8MP Dual Rear Camera</td>\n",
       "      <td>5MP Front Camera</td>\n",
       "      <td>5000 mAh</td>\n",
       "      <td>Helio G36 Processor</td>\n",
       "      <td>₹6,999</td>\n",
       "      <td>2023-06-17</td>\n",
       "    </tr>\n",
       "    <tr>\n",
       "      <th>3</th>\n",
       "      <td>POCO C55 (Cool Blue, 64 GB)</td>\n",
       "      <td>4.2</td>\n",
       "      <td>22,621</td>\n",
       "      <td>4 GB RAM</td>\n",
       "      <td>64 GB ROM</td>\n",
       "      <td>50MP Dual Rear Camera</td>\n",
       "      <td>5MP Front Camera</td>\n",
       "      <td>5000 mAh</td>\n",
       "      <td>Mediatek Helio G85 Processor</td>\n",
       "      <td>₹7,749</td>\n",
       "      <td>2023-06-17</td>\n",
       "    </tr>\n",
       "    <tr>\n",
       "      <th>4</th>\n",
       "      <td>POCO C51 (Power Black, 64 GB)</td>\n",
       "      <td>4.3</td>\n",
       "      <td>15,175</td>\n",
       "      <td>4 GB RAM</td>\n",
       "      <td>64 GB ROM</td>\n",
       "      <td>8MP Dual Rear Camera</td>\n",
       "      <td>5MP Front Camera</td>\n",
       "      <td>5000 mAh</td>\n",
       "      <td>Helio G36 Processor</td>\n",
       "      <td>₹6,999</td>\n",
       "      <td>2023-06-17</td>\n",
       "    </tr>\n",
       "  </tbody>\n",
       "</table>\n",
       "</div>"
      ],
      "text/plain": [
       "                      Phone Name  Rating ?/5 Number of Ratings       RAM  \\\n",
       "0   POCO C50 (Royal Blue, 32 GB)         4.2            33,561  2 GB RAM   \n",
       "1  POCO M4 5G (Cool Blue, 64 GB)         4.2            77,128  4 GB RAM   \n",
       "2   POCO C51 (Royal Blue, 64 GB)         4.3            15,175  4 GB RAM   \n",
       "3    POCO C55 (Cool Blue, 64 GB)         4.2            22,621  4 GB RAM   \n",
       "4  POCO C51 (Power Black, 64 GB)         4.3            15,175  4 GB RAM   \n",
       "\n",
       "  ROM/Storage       Back/Rare Camera      Front Camera   Battery  \\\n",
       "0   32 GB ROM        8MP Dual Camera  5MP Front Camera  5000 mAh   \n",
       "1   64 GB ROM             50MP + 2MP  8MP Front Camera  5000 mAh   \n",
       "2   64 GB ROM   8MP Dual Rear Camera  5MP Front Camera  5000 mAh   \n",
       "3   64 GB ROM  50MP Dual Rear Camera  5MP Front Camera  5000 mAh   \n",
       "4   64 GB ROM   8MP Dual Rear Camera  5MP Front Camera  5000 mAh   \n",
       "\n",
       "                                           Processor Price in INR  \\\n",
       "0  Mediatek Helio A22 Processor, Upto 2.0 GHz Pro...       ₹5,649   \n",
       "1                   Mediatek Dimensity 700 Processor      ₹11,999   \n",
       "2                                Helio G36 Processor       ₹6,999   \n",
       "3                       Mediatek Helio G85 Processor       ₹7,749   \n",
       "4                                Helio G36 Processor       ₹6,999   \n",
       "\n",
       "  Date of Scraping  \n",
       "0       2023-06-17  \n",
       "1       2023-06-17  \n",
       "2       2023-06-17  \n",
       "3       2023-06-17  \n",
       "4       2023-06-17  "
      ]
     },
     "execution_count": 17,
     "metadata": {},
     "output_type": "execute_result"
    }
   ],
   "source": [
    "df=pd.read_csv(\"mobile_prices_2023.csv\")\n",
    "df.head()"
   ]
  },
  {
   "cell_type": "code",
   "execution_count": 18,
   "metadata": {},
   "outputs": [
    {
     "data": {
      "text/plain": [
       "(1836, 11)"
      ]
     },
     "execution_count": 18,
     "metadata": {},
     "output_type": "execute_result"
    }
   ],
   "source": [
    "df.shape"
   ]
  },
  {
   "cell_type": "code",
   "execution_count": 13,
   "metadata": {},
   "outputs": [
    {
     "name": "stdout",
     "output_type": "stream",
     "text": [
      "<class 'pandas.core.frame.DataFrame'>\n",
      "RangeIndex: 1836 entries, 0 to 1835\n",
      "Data columns (total 11 columns):\n",
      " #   Column             Non-Null Count  Dtype  \n",
      "---  ------             --------------  -----  \n",
      " 0   Phone Name         1836 non-null   object \n",
      " 1   Rating ?/5         1836 non-null   float64\n",
      " 2   Number of Ratings  1836 non-null   object \n",
      " 3   RAM                1836 non-null   object \n",
      " 4   ROM/Storage        1662 non-null   object \n",
      " 5   Back/Rare Camera   1827 non-null   object \n",
      " 6   Front Camera       1435 non-null   object \n",
      " 7   Battery            1826 non-null   object \n",
      " 8   Processor          1781 non-null   object \n",
      " 9   Price in INR       1836 non-null   object \n",
      " 10  Date of Scraping   1836 non-null   object \n",
      "dtypes: float64(1), object(10)\n",
      "memory usage: 157.9+ KB\n"
     ]
    }
   ],
   "source": [
    "df.info()"
   ]
  },
  {
   "cell_type": "markdown",
   "metadata": {},
   "source": [
    "Data Cleansing"
   ]
  },
  {
   "cell_type": "code",
   "execution_count": 19,
   "metadata": {},
   "outputs": [
    {
     "data": {
      "text/plain": [
       "Phone Name             0\n",
       "Rating ?/5             0\n",
       "Number of Ratings      0\n",
       "RAM                    0\n",
       "ROM/Storage          174\n",
       "Back/Rare Camera       9\n",
       "Front Camera         401\n",
       "Battery               10\n",
       "Processor             55\n",
       "Price in INR           0\n",
       "Date of Scraping       0\n",
       "dtype: int64"
      ]
     },
     "execution_count": 19,
     "metadata": {},
     "output_type": "execute_result"
    }
   ],
   "source": [
    "df.isnull().sum()"
   ]
  },
  {
   "cell_type": "code",
   "execution_count": 21,
   "metadata": {},
   "outputs": [
    {
     "data": {
      "text/plain": [
       "128 GB ROM               689\n",
       "64 GB ROM                401\n",
       "32 GB ROM                210\n",
       "256 GB ROM               189\n",
       "4 MB ROM                  41\n",
       "16 GB ROM                 33\n",
       "8 GB ROM                  15\n",
       "32 MB ROM                 13\n",
       "128 MB ROM                11\n",
       "0.125 GB ROM               8\n",
       "Expandable Upto 32 GB      8\n",
       "4 GB ROM                   7\n",
       "16 MB ROM                  7\n",
       "Expandable Upto 16 GB      5\n",
       "48 MB ROM                  5\n",
       "512 GB ROM                 4\n",
       "2.27 MB ROM                2\n",
       "10 MB ROM                  2\n",
       "153 MB ROM                 2\n",
       "100 MB ROM                 2\n",
       "Expandable Upto 8 GB       2\n",
       "0 GB ROM                   1\n",
       "NA KB ROM                  1\n",
       "2 MB ROM                   1\n",
       "NA ROM                     1\n",
       "20 MB ROM                  1\n",
       "100 KB ROM                 1\n",
       "Name: ROM/Storage, dtype: int64"
      ]
     },
     "execution_count": 21,
     "metadata": {},
     "output_type": "execute_result"
    }
   ],
   "source": [
    "df[\"ROM/Storage\"].value_counts()"
   ]
  },
  {
   "cell_type": "code",
   "execution_count": 22,
   "metadata": {},
   "outputs": [
    {
     "data": {
      "text/plain": [
       "50MP Rear Camera                       101\n",
       "13MP Rear Camera                        93\n",
       "12MP + 12MP                             81\n",
       "13MP + 2MP                              81\n",
       "50MP + 2MP + 2MP                        80\n",
       "                                      ... \n",
       "48MP + 5MP + 16MP                        1\n",
       "108MP + 8MP + 16MP                       1\n",
       "108MP + 16MP + 8MP                       1\n",
       "16MP + 2MP + 2MP                         1\n",
       "16MP + 5MP + 2MP + Low Light Sensor      1\n",
       "Name: Back/Rare Camera, Length: 174, dtype: int64"
      ]
     },
     "execution_count": 22,
     "metadata": {},
     "output_type": "execute_result"
    }
   ],
   "source": [
    "df[\"Back/Rare Camera\"].value_counts()"
   ]
  },
  {
   "cell_type": "code",
   "execution_count": 23,
   "metadata": {},
   "outputs": [
    {
     "data": {
      "text/plain": [
       "16MP Front Camera               332\n",
       "8MP Front Camera                307\n",
       "5MP Front Camera                273\n",
       "12MP Front Camera               121\n",
       "32MP Front Camera               102\n",
       "13MP Front Camera                70\n",
       "20MP Front Camera                57\n",
       "7MP Front Camera                 27\n",
       "32MP + 8MP Dual Front Camera     15\n",
       "50MP Front Camera                15\n",
       "20MP + 2MP Dual Front Camera     14\n",
       "44MP Front Camera                11\n",
       "2MP Front Camera                  9\n",
       "10.8MP Front Camera               9\n",
       "10MP Front Camera                 8\n",
       "25MP Front Camera                 8\n",
       "50MP + 8MP Dual Front Camera      8\n",
       "0.3MP Front Camera                7\n",
       "16MP + 2MP Dual Front Camera      6\n",
       "44MP + 2MP Dual Front Camera      5\n",
       "60MP Front Camera                 5\n",
       "4MP Front Camera                  4\n",
       "24MP Front Camera                 3\n",
       "16MP + 8MP Dual Front Camera      3\n",
       "8MP + 2MP Dual Front Camera       3\n",
       "60 MP with OIS                    3\n",
       "16MP Dual Front Camera            2\n",
       "32MP + 2MP Dual Front Camera      2\n",
       "1.6MP Front Camera                2\n",
       "8MP + 8MP Dual Front Camera       1\n",
       "0MP Front Camera                  1\n",
       "1.3MP Front Camera                1\n",
       "13MP + 5MP Dual Front Camera      1\n",
       "Name: Front Camera, dtype: int64"
      ]
     },
     "execution_count": 23,
     "metadata": {},
     "output_type": "execute_result"
    }
   ],
   "source": [
    "df[\"Front Camera\"].value_counts()"
   ]
  },
  {
   "cell_type": "code",
   "execution_count": 24,
   "metadata": {},
   "outputs": [
    {
     "data": {
      "text/plain": [
       "5000 mAh    786\n",
       "4500 mAh    148\n",
       "6000 mAh    113\n",
       "4000 mAh     99\n",
       "A15 mAh      76\n",
       "           ... \n",
       "1110 mAh      1\n",
       "1430 mAh      1\n",
       "4780 mAh      1\n",
       "5300 mAh      1\n",
       "3225 mAh      1\n",
       "Name: Battery, Length: 102, dtype: int64"
      ]
     },
     "execution_count": 24,
     "metadata": {},
     "output_type": "execute_result"
    }
   ],
   "source": [
    "df[\"Battery\"].value_counts()"
   ]
  },
  {
   "cell_type": "code",
   "execution_count": 25,
   "metadata": {},
   "outputs": [
    {
     "data": {
      "text/plain": [
       "1 Year Warranty for Phone and 6 Months Warranty for In-Box Accessories    47\n",
       "Qualcomm Snapdragon 680 Processor                                         45\n",
       "Brand Warranty for 1 Year                                                 40\n",
       "12 months                                                                 35\n",
       "Qualcomm Snapdragon 778G Processor                                        33\n",
       "                                                                          ..\n",
       "SDM710 Processor                                                           1\n",
       "1 Year Manufacturer Warranty for Handset and 6 Months for Accessories      1\n",
       "Mediatek MT6763T Octa Core 2.5 GHz Processor                               1\n",
       "MT6737M Quad Core 1.1 GHz Processor                                        1\n",
       "Helio P22 (MTK6762) Processor                                              1\n",
       "Name: Processor, Length: 332, dtype: int64"
      ]
     },
     "execution_count": 25,
     "metadata": {},
     "output_type": "execute_result"
    }
   ],
   "source": [
    "df[\"Processor\"].value_counts()"
   ]
  },
  {
   "cell_type": "code",
   "execution_count": null,
   "metadata": {},
   "outputs": [],
   "source": []
  }
 ],
 "metadata": {
  "kernelspec": {
   "display_name": ".venv",
   "language": "python",
   "name": "python3"
  },
  "language_info": {
   "codemirror_mode": {
    "name": "ipython",
    "version": 3
   },
   "file_extension": ".py",
   "mimetype": "text/x-python",
   "name": "python",
   "nbconvert_exporter": "python",
   "pygments_lexer": "ipython3",
   "version": "3.10.11"
  },
  "orig_nbformat": 4
 },
 "nbformat": 4,
 "nbformat_minor": 2
}
